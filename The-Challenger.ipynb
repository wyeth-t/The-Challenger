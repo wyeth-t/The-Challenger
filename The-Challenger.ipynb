{
 "cells": [
  {
   "cell_type": "code",
   "execution_count": 1,
   "id": "roman-player",
   "metadata": {},
   "outputs": [],
   "source": [
    "import pandas as pd\n",
    "import numpy as np\n",
    "import math\n",
    "import matplotlib.pyplot as plt\n",
    "import csv"
   ]
  },
  {
   "cell_type": "code",
   "execution_count": 2,
   "id": "coastal-clear",
   "metadata": {},
   "outputs": [],
   "source": [
    "def station_reader(file):\n",
    "    \"\"\"\n",
    "    Reads the station CSV file into a python dictionary, removing null and invalid data\n",
    "    \"\"\"\n",
    "    df = pd.read_csv(file, usecols =[0,2,3], names = ['Station ID', 'latitude', 'longitude'])\n",
    "    df = df.dropna(axis=0) \n",
    "    df = df[(df.latitude != 0) | (df.longitude != 0)]\n",
    "    df = df.drop_duplicates(subset = 'Station ID')\n",
    "    df = df.set_index('Station ID')\n",
    "    \n",
    "    return df"
   ]
  },
  {
   "cell_type": "code",
   "execution_count": 3,
   "id": "hazardous-supervision",
   "metadata": {},
   "outputs": [],
   "source": [
    "def temp_reader(file):\n",
    "    \"\"\"\n",
    "    Reads the temperature CSV file into a python dataframe\n",
    "    \"\"\"\n",
    "    df = pd.read_csv(file, usecols = [0,2,3,4], names = ['Station ID', 'Month', 'Day', 'Temperature'])\n",
    "    \n",
    "    return df"
   ]
  },
  {
   "cell_type": "code",
   "execution_count": 4,
   "id": "experimental-seeking",
   "metadata": {},
   "outputs": [],
   "source": [
    "def to_radians(df):\n",
    "    \"\"\"\n",
    "    converts a dataframe showing degree values into radians\n",
    "    \"\"\"\n",
    "    df = (df * math.pi) /180.0\n",
    "    return df"
   ]
  },
  {
   "cell_type": "code",
   "execution_count": 5,
   "id": "assisted-boring",
   "metadata": {},
   "outputs": [],
   "source": [
    "def haversine(lat1, lon1, lat2, lon2):\n",
    "    \"\"\"\n",
    "    runs the haversine function\n",
    "    credit to professor Rachlin who allowed us to use this function explained in his class\n",
    "    \"\"\"\n",
    "    dlat = (lat2 - lat1) \n",
    "    dlon = (lon2 - lon1) \n",
    "\n",
    "    a = (pow(math.sin(dlat / 2), 2) +\n",
    "         pow(math.sin(dlon / 2), 2) *\n",
    "            math.cos(lat1) * math.cos(lat2));\n",
    "    \n",
    "    r = 6371\n",
    "    c = 2 * math.asin(math.sqrt(a))\n",
    "    return r * c"
   ]
  },
  {
   "cell_type": "code",
   "execution_count": 6,
   "id": "constitutional-synthetic",
   "metadata": {},
   "outputs": [],
   "source": [
    "def merge(station, temps):\n",
    "    \"\"\"\n",
    "    Merges the station and temp dataframes, so that each station ID repeats showing the temperature and date for every\n",
    "        day in 1986\n",
    "    \"\"\"\n",
    "    station_temps = stations.merge(temps, how = 'left', left_on = 'Station ID', right_on = 'Station ID')\n",
    "    station_temps = station_temps.dropna()\n",
    "    return station_temps"
   ]
  },
  {
   "cell_type": "code",
   "execution_count": 7,
   "id": "female-empire",
   "metadata": {},
   "outputs": [],
   "source": [
    "def date_selector(df, month, day):\n",
    "    \"\"\"\n",
    "    filters the data based on month and date parameters, and returns the filtered data frame of only showing the exact\n",
    "        date\n",
    "    \"\"\"\n",
    "    df = df[df.Month == month]\n",
    "    df = df[df.Day == day]\n",
    "    return df"
   ]
  },
  {
   "cell_type": "code",
   "execution_count": 8,
   "id": "growing-locator",
   "metadata": {},
   "outputs": [],
   "source": [
    "def inverse_distance_wt(station_temps, p):\n",
    "    \"\"\"\n",
    "    Applies the inverse weight function to all of the temperatures within 100 miles of Cape Canaveral. \n",
    "        returns the temperature at CC as a float value\n",
    "    \"\"\"\n",
    "    a = sum(station_temps.Temperature / station_temps.distances**p)\n",
    "    b = sum(1 / station_temps.distances**p)\n",
    "    return a / b"
   ]
  },
  {
   "cell_type": "code",
   "execution_count": 9,
   "id": "relevant-domestic",
   "metadata": {},
   "outputs": [],
   "source": [
    "def january_plot(d):\n",
    "    \"\"\"\n",
    "    plots the temperature at Cape Canaveral for every day in January on a bar graph\n",
    "    \"\"\"\n",
    "    x = d.keys()\n",
    "    y = d.values()\n",
    "    \n",
    "    plt.figure(figsize=(10,5))\n",
    "    \n",
    "    #Makes the lowest temperature in the list red in color\n",
    "    c = ['blue' if (temp > min(y)) else 'red' for temp in y ]\n",
    "    \n",
    "    plt.bar(d.keys(), d.values(), color=c)\n",
    "    plt.xlabel('Day in January')\n",
    "    plt.ylabel('Fahrenheit'u\"\\u00b0\")\n",
    "    plt.title('Temperatures in Cape Canaveral FL in January 1986')\n",
    "    \n",
    "    ##Credit the below line to SackOverflow user unutbu who displayed how to change freq of x-tick markers\n",
    "    #https://stackoverflow.com/questions/12608788/changing-the-tick-frequency-on-x-or-y-axis-in-matplotlib\n",
    "    plt.xticks(np.arange(min(x), max(x)+1, 1.0))\n",
    "    \n",
    "    plt.show()"
   ]
  },
  {
   "cell_type": "code",
   "execution_count": 10,
   "id": "polished-musical",
   "metadata": {},
   "outputs": [],
   "source": [
    "def us_stations(df):\n",
    "    \"\"\" Filters a dataframe to only show stations within the latitude range of 25:50 and longitude range of -125:-65\n",
    "        \n",
    "        Additionally finds the relative values of all filtered long and lat values, and normalizes them to fit a \n",
    "            150,100 dataframe. Finally, the function rounds the normalized values to integers\n",
    "    \"\"\"\n",
    "    df = df[(df.latitude > 25) & (df.latitude < 50)]\n",
    "    df = df[(df.longitude > -125) & (df.longitude < -65)]\n",
    "    \n",
    "    #find the relative values by subtracting the minimum GPS value from each point\n",
    "    df['rel_lon'] = df['longitude']  + 125\n",
    "    df['rel_lat'] = df['latitude'] - 25\n",
    "    \n",
    "    #normalize to fit the (150, 100) NP array\n",
    "    df['rel_lon'] = (df['rel_lon'] * 2.5) -1\n",
    "    df['rel_lat'] = (df['rel_lat'] * 4) -1\n",
    "    \n",
    "    #round to integers\n",
    "    df['rel_lon'] = df['rel_lon'].round().astype(int)\n",
    "    df['rel_lat'] = df['rel_lat'].round().astype(int)\n",
    "    return df"
   ]
  },
  {
   "cell_type": "code",
   "execution_count": 11,
   "id": "shaped-token",
   "metadata": {},
   "outputs": [],
   "source": [
    "def color_bucket(df):\n",
    "    \"\"\"This function creates a temperature bin column and inputs temperature values in bins of 10 degrees\n",
    "    \"\"\"\n",
    "    bins = [-10, 0, 10, 20, 30, 40, 50, 60, 70, 80, 90]\n",
    "    labels = [1,2,3,4,5,6,7,8,9,10]\n",
    "    df['binned'] = pd.cut(df['Temperature'], bins,labels=labels)\n",
    "    return df\n"
   ]
  },
  {
   "cell_type": "code",
   "execution_count": 12,
   "id": "mobile-fitting",
   "metadata": {},
   "outputs": [],
   "source": [
    "def color_array(a):\n",
    "    \"\"\"this function returns 3 digit RGB values based on the temperature bin parameter provided as an int\n",
    "    \"\"\"\n",
    "    if a == 1:\n",
    "        return [127, 255, 212] #weather stations less than 0 degrees will be shown in aqua marine\n",
    "    elif a ==2:\n",
    "        return [0,255,255] #temperatures between 0 and 10 degrees will be shown in cyan\n",
    "    elif a ==3:\n",
    "        return [0,128,128] #temperatures between 10 and 20 degrees will be shown in teal\n",
    "    elif a ==4:\n",
    "        return [0,0,255] #temperatures between 20 and 30 degrees will be shown in blue\n",
    "    elif a ==5:\n",
    "        return [0,128,0] #temperatures between 30 and 40 degrees will be shown in green\n",
    "    elif a==6:\n",
    "        return [0,255,0] #temperatures between 40 and 50 degrees will be shown in lime \n",
    "    elif a==7:\n",
    "        return [255,255,0] #temeratures between 50 and 60 degrees will be shown in yellow\n",
    "    elif a==8:\n",
    "        return [255,140,0] #temperatures between 60 and 70 degrees will be dark orange\n",
    "    elif a==9:\n",
    "        return [255,0,0] #temperatures between 70 and 80 degrees will be red\n",
    "    elif a==10:\n",
    "        return [220,20,60] #temperature values between 80 and 90 degrees will be crimson"
   ]
  },
  {
   "cell_type": "code",
   "execution_count": 13,
   "id": "shared-tribune",
   "metadata": {},
   "outputs": [],
   "source": [
    "def image_array(lst, df):\n",
    "    \"\"\"\n",
    "    this function creates an empty 3 dimensional numpy array and inserts 3 digit RGB values at their correct position \n",
    "        based on their normalized longitude and latitude values. The function returns the 3 dimensional array\n",
    "    \"\"\"\n",
    "    m = np.zeros([150,100,3])\n",
    "    a = 0\n",
    "    for i, row in df.iterrows():\n",
    "        m[int(row['rel_lon']), int(row['rel_lat'])] = lst[a]\n",
    "        a = a+1\n",
    "    #rotate the array 90 degrees to show up correctly when plotted\n",
    "    m = np.rot90(m)\n",
    "    return m"
   ]
  },
  {
   "cell_type": "code",
   "execution_count": 14,
   "id": "experienced-legislature",
   "metadata": {},
   "outputs": [],
   "source": [
    "def image_plt(data,title):\n",
    "    \"\"\"\n",
    "    plots the 3 dimensional numpy array of temperature RGB values\n",
    "    \"\"\"\n",
    "    plt.figure(figsize=(12,8))\n",
    "    plt.title(title)\n",
    "    #divide the RGB values in order to show colors correctly\n",
    "    a = plt.imshow(data/255)\n",
    "    plt.show()"
   ]
  },
  {
   "cell_type": "code",
   "execution_count": 15,
   "id": "treated-creator",
   "metadata": {},
   "outputs": [
    {
     "name": "stdout",
     "output_type": "stream",
     "text": [
      "The inverse weighted temperature on the day of the crash was 34.77746831722979\n"
     ]
    },
    {
     "data": {
      "image/png": "[encoded data removed]",
      "text/plain": [
       "<Figure size 720x360 with 1 Axes>"
      ]
     },
     "metadata": {
      "needs_background": "light"
     },
     "output_type": "display_data"
    },
    {
     "data": {
      "image/png": "[encoded data removed]",
      "text/plain": [
       "<Figure size 864x576 with 1 Axes>"
      ]
     },
     "metadata": {
      "needs_background": "light"
     },
     "output_type": "display_data"
    },
    {
     "data": {
      "image/png": "[encoded data removed]",
      "text/plain": [
       "<Figure size 864x576 with 1 Axes>"
      ]
     },
     "metadata": {
      "needs_background": "light"
     },
     "output_type": "display_data"
    }
   ],
   "source": [
    "##PART A###\n",
    "#question 1 and 2\n",
    "stations = station_reader('stations.csv')\n",
    "temps = temp_reader('temp_1986.csv')\n",
    "\n",
    "#start question 3\n",
    "#change the station data to show in radians\n",
    "rad_stations = to_radians(stations)\n",
    "\n",
    "#variables of the gps coordiantes at Cape Canaveral in Radians\n",
    "cc_lat = 0.495618303\n",
    "cc_long = -1.406834145\n",
    "\n",
    "##Credit below to Professor Rachlin who showed our class how to vectorize a trig function\n",
    "#applies the haversine distance function to find the distance of all stations from the Cape Canaveral coordinates\n",
    "stations['distances'] = rad_stations.apply(lambda row : \n",
    "                                 haversine(cc_lat, cc_long, row.latitude, row.longitude), axis=1);\n",
    "\n",
    "#merges the station and temperature data\n",
    "station_temps = merge(stations, temps)\n",
    "\n",
    "#filters only stations within 100km of Cape Canaveral\n",
    "close_stations = station_temps[station_temps.distances <= 100]\n",
    "#end question 3\n",
    "\n",
    "#filters data only from January 28\n",
    "date_temp = date_selector(close_stations, 1, 28)\n",
    "\n",
    "#question 4 - prints the temperature in Cape Canaveral on January 28\n",
    "cc_temp = inverse_distance_wt(date_temp, 1)\n",
    "print(\"The inverse weighted temperature on the day of the crash was\",cc_temp)\n",
    "\n",
    "#question 5 - create the plot showing the temperatures at CC on every day in January\n",
    "d = {i : inverse_distance_wt(date_selector(close_stations, 1, i), 1) for i in range(1,32)}\n",
    "january_plot(d)\n",
    "\n",
    "###PART B###\n",
    "\n",
    "jan28 = date_selector(station_temps,1, 28)\n",
    "\n",
    "#question 1\n",
    "usstations_jan28 = us_stations(jan28)\n",
    "\n",
    "#bin temperatures into 10 degree buckets\n",
    "usstations_jan28 = color_bucket(usstations_jan28)\n",
    "\n",
    "#get RBG values based on binned values\n",
    "clrlst = []\n",
    "for a in usstations_jan28[\"binned\"]:\n",
    "    clrlst.append(color_array(a))\n",
    "\n",
    "#question 2\n",
    "img_array = image_array(clrlst, usstations_jan28)\n",
    "\n",
    "#question 3\n",
    "image_plt(img_array, \"Jan 28th, 1986\")\n",
    "\n",
    "#question 3 - all steps repeated to create February 1st temperature plot\n",
    "feb1 = date_selector(station_temps,2, 1)\n",
    "usstations_feb1 = us_stations(feb1)\n",
    "usstations_feb1 = color_bucket(usstations_feb1)\n",
    "clrlst = []\n",
    "for a in usstations_feb1[\"binned\"]:\n",
    "    clrlst.append(color_array(a))\n",
    "\n",
    "img_array1 = image_array(clrlst, usstations_feb1)\n",
    "\n",
    "image_plt(img_array1, \"Feb 1st, 1986\")\n"
   ]
  },
  {
   "cell_type": "code",
   "execution_count": null,
   "id": "geological-parish",
   "metadata": {},
   "outputs": [],
   "source": []
  }
 ],
 "metadata": {
  "kernelspec": {
   "display_name": "Python 3",
   "language": "python",
   "name": "python3"
  },
  "language_info": {
   "codemirror_mode": {
    "name": "ipython",
    "version": 3
   },
   "file_extension": ".py",
   "mimetype": "text/x-python",
   "name": "python",
   "nbconvert_exporter": "python",
   "pygments_lexer": "ipython3",
   "version": "3.7.10"
  }
 },
 "nbformat": 4,
 "nbformat_minor": 5
}
